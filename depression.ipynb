{
 "cells": [
  {
   "cell_type": "code",
   "execution_count": 5,
   "metadata": {},
   "outputs": [],
   "source": [
    "import numpy as np\n",
    "import pandas as pd\n",
    "import matplotlib.pyplot as plt\n",
    "import seaborn as sns\n",
    "import os\n",
    "import sys\n",
    "import traceback"
   ]
  },
  {
   "cell_type": "code",
   "execution_count": 6,
   "metadata": {},
   "outputs": [],
   "source": [
    "leer = True"
   ]
  },
  {
   "cell_type": "code",
   "execution_count": 7,
   "metadata": {},
   "outputs": [
    {
     "name": "stdout",
     "output_type": "stream",
     "text": [
      "2003-2004\n",
      "-----------------------------\n",
      "https://wwwn.cdc.gov/Nchs/Nhanes/2003-2004/CIQDEP_C.XPT\n",
      "(98, 135)\n",
      "2005-2006\n",
      "-----------------------------\n",
      "https://wwwn.cdc.gov/Nchs/Nhanes/2005-2006/DPQ_D.XPT\n",
      "(2903, 11)\n",
      "2007-2008\n",
      "-----------------------------\n",
      "https://wwwn.cdc.gov/Nchs/Nhanes/2007-2008/DPQ_E.XPT\n",
      "(3305, 11)\n",
      "2009-2010\n",
      "-----------------------------\n",
      "https://wwwn.cdc.gov/Nchs/Nhanes/2009-2010/DPQ_F.XPT\n",
      "(3368, 11)\n",
      "2011-2012\n",
      "-----------------------------\n",
      "https://wwwn.cdc.gov/Nchs/Nhanes/2011-2012/DPQ_G.XPT\n",
      "(2866, 11)\n",
      "2013-2014\n",
      "-----------------------------\n",
      "https://wwwn.cdc.gov/Nchs/Nhanes/2013-2014/DPQ_H.XPT\n",
      "(3327, 11)\n",
      "2015-2016\n",
      "-----------------------------\n",
      "https://wwwn.cdc.gov/Nchs/Nhanes/2015-2016/DPQ_I.XPT\n",
      "(3181, 11)\n",
      "2017-2018\n",
      "-----------------------------\n",
      "https://wwwn.cdc.gov/Nchs/Nhanes/2017-2018/DPQ_J.XPT\n",
      "(2964, 11)\n",
      "(22012, 2)\n"
     ]
    }
   ],
   "source": [
    "\n",
    "if leer:\n",
    "    anos = ['2003-2004', '2005-2006', '2007-2008', '2009-2010', '2011-2012', '2013-2014','2015-2016', '2017-2018']\n",
    "    \n",
    "    extension = ['CIQDEP_C','DPQ_D','DPQ_E','DPQ_F','DPQ_G','DPQ_H','DPQ_I','DPQ_J','DPQ_K']\n",
    "    \n",
    "    archivos = []\n",
    "    \n",
    "    for f,j in zip(anos,extension):\n",
    "        try:\n",
    "            print(f)\n",
    "            print('-----------------------------')\n",
    "            path = 'https://wwwn.cdc.gov/Nchs/Nhanes/{}/{}.XPT'.format(f, j)\n",
    "            print(path)\n",
    "            archivo = pd.read_sas(path, format='xport', encoding='utf-8')\n",
    "            if f in ['2003-2004']:\n",
    "                archivo = archivo[(archivo.CIQD010 == 1)|(archivo.CIQD020 == 1)|(archivo.CIQD030 == 1)|(archivo.CIQD040 == 1)|(archivo.CIQD050 == 1)|(archivo.CIQD060 == 1)|(archivo.CIQD080 == 1)|(archivo.CIQD090 == 1)|(archivo.CIQD100 == 1)]\n",
    "\n",
    "            elif f in ['2005-2006', '2007-2008']:\n",
    "                archivo = archivo[(archivo.DPQ010 == 1)|(archivo.DPQ020 == 1)|(archivo.DPQ030 == 1)|(archivo.DPQ040 == 1)|(archivo.DPQ050 == 1)|(archivo.DPQ060 == 1)|(archivo.DPQ070 == 1)|(archivo.DPQ080 == 1)|(archivo.DPQ090 == 1)|(archivo.DPQ100 == 1)]\n",
    "\n",
    "\n",
    "            else: \n",
    "                archivo = archivo[(archivo.DPQ010 == 1)|(archivo.DPQ020 == 1)|(archivo.DPQ030 == 1)|(archivo.DPQ040 == 1)|(archivo.DPQ050 == 1)|(archivo.DPQ060 == 1)|(archivo.DPQ070 == 1)|(archivo.DPQ080 == 1)|(archivo.DPQ090 == 1)|(archivo.DPQ100 == 1)]\n",
    "\n",
    "\n",
    "            print(archivo.shape)\n",
    "            archivo = archivo[['SEQN']]\n",
    "            archivo[['enfermedad_depresion']] = 1\n",
    "            archivos.append(archivo)\n",
    "        except Exception as exc:\n",
    "            print(path)\n",
    "            print(traceback.format_exc())\n",
    "            print(exc)\n",
    "            print('--------------------')\n",
    "            pass\n",
    "    \n",
    "    pd_ = pd.concat(archivos, sort='False', ignore_index='True')\n",
    "    pd_ = pd_.drop_duplicates()\n",
    "    pd_.to_csv('./total_depression.csv', header = True, sep = '|', index = False)\n",
    "    print(pd_.shape)"
   ]
  },
  {
   "cell_type": "code",
   "execution_count": null,
   "metadata": {},
   "outputs": [],
   "source": []
  }
 ],
 "metadata": {
  "kernelspec": {
   "display_name": "Python 3",
   "language": "python",
   "name": "python3"
  },
  "language_info": {
   "codemirror_mode": {
    "name": "ipython",
    "version": 3
   },
   "file_extension": ".py",
   "mimetype": "text/x-python",
   "name": "python",
   "nbconvert_exporter": "python",
   "pygments_lexer": "ipython3",
   "version": "3.8.8"
  }
 },
 "nbformat": 4,
 "nbformat_minor": 4
}
