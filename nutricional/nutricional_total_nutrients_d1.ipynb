{
 "cells": [
  {
   "cell_type": "code",
   "execution_count": 1,
   "metadata": {},
   "outputs": [],
   "source": [
    "import numpy as np\n",
    "import pandas as pd\n",
    "import matplotlib.pyplot as plt\n",
    "import seaborn as sns\n",
    "import os\n",
    "import sys"
   ]
  },
  {
   "cell_type": "code",
   "execution_count": 2,
   "metadata": {},
   "outputs": [],
   "source": [
    "leer = False"
   ]
  },
  {
   "cell_type": "code",
   "execution_count": 3,
   "metadata": {},
   "outputs": [],
   "source": [
    "\n",
    "if leer:\n",
    "    anos = ['2003-2004', '2005-2006', '2007-2008', '2009-2010', '2011-2012', '2013-2014','2015-2016', '2017-2018']\n",
    "    \n",
    "    extension = ['DR1TOT_C','DR1TOT_D','DR1TOT_E','DR1TOT_F','DR1TOT_G','DR1TOT_H','DR1TOT_I','DR1TOT_J','DR1TOT_K']\n",
    "    \n",
    "    archivos = []\n",
    "    \n",
    "    for f,j in zip(anos,extension):\n",
    "        path = 'https://wwwn.cdc.gov/Nchs/Nhanes/{}/{}.XPT'.format(f, j)\n",
    "        print(path)\n",
    "        archivo = pd.read_sas(path, format='xport', encoding='utf-8')\n",
    "        archivos.append(archivo)\n",
    "    \n",
    "    pd_ = pd.concat(archivos, sort='False', ignore_index='True')\n",
    "    pd_.to_csv('./total_nutrientes_d1.csv', header = True, sep = '|', index = False)\n",
    "\n"
   ]
  },
  {
   "cell_type": "code",
   "execution_count": 4,
   "metadata": {},
   "outputs": [
    {
     "name": "stdout",
     "output_type": "stream",
     "text": [
      "(96766, 294)\n",
      "float64    292\n",
      "int64        2\n",
      "dtype: int64\n",
      "1 1\n",
      "            count\n",
      "DBD100    48361.0\n",
      "DBQ095     9464.0\n",
      "DR1BWATR   9155.0\n",
      "DR1BWATZ  61685.0\n",
      "DR1CWATR   9160.0\n",
      "...           ...\n",
      "DRXTVK     9701.0\n",
      "DRXTWATE   8725.0\n",
      "DRXTZINC  18426.0\n",
      "WTDR2D    65440.0\n",
      "WTDR4YR   18613.0\n",
      "\n",
      "[217 rows x 1 columns]\n"
     ]
    }
   ],
   "source": [
    "pd_nut_d1 = pd.read_csv('./total_nutrientes_d1.csv', sep = '|')\n",
    "pd_nut_d1['SEQN'] = pd_nut_d1['SEQN'].astype(int)\n",
    "print(pd_nut_d1.shape)\n",
    "print(pd_nut_d1.dtypes.value_counts())\n",
    "print(pd_nut_d1.SEQN.value_counts().min(), pd_nut_d1.SEQN.value_counts().max())\n",
    "conteos = pd_nut_d1.describe().T[['count']]\n",
    "print(conteos[conteos['count'] < 96766*0.7])"
   ]
  },
  {
   "cell_type": "code",
   "execution_count": 5,
   "metadata": {},
   "outputs": [
    {
     "name": "stdout",
     "output_type": "stream",
     "text": [
      "(96766, 293)\n"
     ]
    },
    {
     "data": {
      "text/html": [
       "<div>\n",
       "<style scoped>\n",
       "    .dataframe tbody tr th:only-of-type {\n",
       "        vertical-align: middle;\n",
       "    }\n",
       "\n",
       "    .dataframe tbody tr th {\n",
       "        vertical-align: top;\n",
       "    }\n",
       "\n",
       "    .dataframe thead th {\n",
       "        text-align: right;\n",
       "    }\n",
       "</style>\n",
       "<table border=\"1\" class=\"dataframe\">\n",
       "  <thead>\n",
       "    <tr style=\"text-align: right;\">\n",
       "      <th></th>\n",
       "      <th>count</th>\n",
       "    </tr>\n",
       "  </thead>\n",
       "  <tbody>\n",
       "    <tr>\n",
       "      <th>DBD100</th>\n",
       "      <td>48361.0</td>\n",
       "    </tr>\n",
       "    <tr>\n",
       "      <th>DBQ095</th>\n",
       "      <td>9464.0</td>\n",
       "    </tr>\n",
       "    <tr>\n",
       "      <th>DR1BWATR</th>\n",
       "      <td>9155.0</td>\n",
       "    </tr>\n",
       "    <tr>\n",
       "      <th>DR1BWATZ</th>\n",
       "      <td>61685.0</td>\n",
       "    </tr>\n",
       "    <tr>\n",
       "      <th>DR1CWATR</th>\n",
       "      <td>9160.0</td>\n",
       "    </tr>\n",
       "    <tr>\n",
       "      <th>...</th>\n",
       "      <td>...</td>\n",
       "    </tr>\n",
       "    <tr>\n",
       "      <th>DRXTVK</th>\n",
       "      <td>9701.0</td>\n",
       "    </tr>\n",
       "    <tr>\n",
       "      <th>DRXTWATE</th>\n",
       "      <td>8725.0</td>\n",
       "    </tr>\n",
       "    <tr>\n",
       "      <th>DRXTZINC</th>\n",
       "      <td>18426.0</td>\n",
       "    </tr>\n",
       "    <tr>\n",
       "      <th>WTDR2D</th>\n",
       "      <td>65440.0</td>\n",
       "    </tr>\n",
       "    <tr>\n",
       "      <th>WTDR4YR</th>\n",
       "      <td>18613.0</td>\n",
       "    </tr>\n",
       "  </tbody>\n",
       "</table>\n",
       "<p>217 rows × 1 columns</p>\n",
       "</div>"
      ],
      "text/plain": [
       "            count\n",
       "DBD100    48361.0\n",
       "DBQ095     9464.0\n",
       "DR1BWATR   9155.0\n",
       "DR1BWATZ  61685.0\n",
       "DR1CWATR   9160.0\n",
       "...           ...\n",
       "DRXTVK     9701.0\n",
       "DRXTWATE   8725.0\n",
       "DRXTZINC  18426.0\n",
       "WTDR2D    65440.0\n",
       "WTDR4YR   18613.0\n",
       "\n",
       "[217 rows x 1 columns]"
      ]
     },
     "execution_count": 5,
     "metadata": {},
     "output_type": "execute_result"
    }
   ],
   "source": [
    "pd_nut_d1_agg = pd_nut_d1.groupby('SEQN').agg('mean')\n",
    "print(pd_nut_d1_agg.shape)\n",
    "\n",
    "\n",
    "\n",
    "conteos_agg = pd_nut_d1_agg.describe().T[['count']]\n",
    "conteos_agg[conteos_agg['count'] < pd_nut_d1_agg.shape[0]*0.7]"
   ]
  },
  {
   "cell_type": "code",
   "execution_count": 6,
   "metadata": {},
   "outputs": [],
   "source": [
    "pd_nut_d1_agg = pd_nut_d1_agg.drop(columns = ['DRDINT', 'WTDR2D'])\n",
    "pd_nut_d1_agg.to_csv('./total_nutrientes_d1_agg.csv', header = True, sep = '|')"
   ]
  },
  {
   "cell_type": "code",
   "execution_count": null,
   "metadata": {},
   "outputs": [],
   "source": []
  }
 ],
 "metadata": {
  "kernelspec": {
   "display_name": "Python 3",
   "language": "python",
   "name": "python3"
  },
  "language_info": {
   "codemirror_mode": {
    "name": "ipython",
    "version": 3
   },
   "file_extension": ".py",
   "mimetype": "text/x-python",
   "name": "python",
   "nbconvert_exporter": "python",
   "pygments_lexer": "ipython3",
   "version": "3.8.5"
  }
 },
 "nbformat": 4,
 "nbformat_minor": 4
}
