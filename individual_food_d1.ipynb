{
 "cells": [
  {
   "cell_type": "code",
   "execution_count": 1,
   "metadata": {},
   "outputs": [
    {
     "data": {
      "text/plain": [
       "'/home/hdap/Documents/maestria_unir/practicas/data_david/nutricional'"
      ]
     },
     "execution_count": 1,
     "metadata": {},
     "output_type": "execute_result"
    }
   ],
   "source": [
    "import numpy as np\n",
    "import pandas as pd\n",
    "import matplotlib.pyplot as plt\n",
    "import seaborn as sns\n",
    "import os\n",
    "import sys\n",
    "os.getcwd()"
   ]
  },
  {
   "cell_type": "code",
   "execution_count": 2,
   "metadata": {},
   "outputs": [],
   "source": [
    "leer = False"
   ]
  },
  {
   "cell_type": "code",
   "execution_count": 3,
   "metadata": {},
   "outputs": [],
   "source": [
    "if leer: \n",
    "    anos = ['2003-2004', '2005-2006', '2007-2008', '2009-2010', '2011-2012', '2013-2014','2015-2016', '2017-2018']\n",
    "    \n",
    "    extensiones = ['DR1IFF_C.XPT', 'DR1IFF_D.XPT','DR1IFF_E.XPT','DR1IFF_F.XPT','DR1IFF_G.XPT','DR1IFF_H.XPT', 'DR1IFF_I.XPT', 'DR1IFF_J.XPT']\n",
    "    \n",
    "    \n",
    "    archivos = []\n",
    "    \n",
    "    for f,j in zip(anos, extensiones):\n",
    "        path = 'https://wwwn.cdc.gov/Nchs/Nhanes/{}/{}'.format(f,j)\n",
    "        print(path)\n",
    "        archivo = pd.read_sas(path, format='xport', encoding='utf-8')\n",
    "        archivos.append(archivo)\n",
    "    \n",
    "    pd_ = pd.concat(archivos, sort='False', ignore_index='True')\n",
    "    pd_.to_csv('./individual_food_d1.csv', header = True, sep = '|', index = False)\n",
    "\n"
   ]
  },
  {
   "cell_type": "code",
   "execution_count": 4,
   "metadata": {},
   "outputs": [
    {
     "data": {
      "text/plain": [
       "(1337703, 171)"
      ]
     },
     "execution_count": 4,
     "metadata": {},
     "output_type": "execute_result"
    }
   ],
   "source": [
    "pd_if_d1 = pd.read_csv('./individual_food_d1.csv', sep = '|')\n",
    "pd_if_d1['SEQN'] = pd_if_d1['SEQN'].astype(int)\n",
    "pd_if_d1.shape"
   ]
  },
  {
   "cell_type": "code",
   "execution_count": 5,
   "metadata": {},
   "outputs": [
    {
     "name": "stdout",
     "output_type": "stream",
     "text": [
      "['WTDRD1']\n"
     ]
    }
   ],
   "source": [
    "print([c for c in pd_if_d1.columns if 'WTDRD' in c])"
   ]
  },
  {
   "cell_type": "code",
   "execution_count": 6,
   "metadata": {},
   "outputs": [
    {
     "data": {
      "text/plain": [
       "float64    170\n",
       "int64        1\n",
       "dtype: int64"
      ]
     },
     "execution_count": 6,
     "metadata": {},
     "output_type": "execute_result"
    }
   ],
   "source": [
    "pd_if_d1.dtypes.value_counts()"
   ]
  },
  {
   "cell_type": "code",
   "execution_count": 7,
   "metadata": {},
   "outputs": [
    {
     "data": {
      "text/plain": [
       "(1, 61)"
      ]
     },
     "execution_count": 7,
     "metadata": {},
     "output_type": "execute_result"
    }
   ],
   "source": [
    "pd_if_d1.SEQN.value_counts().min(), pd_if_d1.SEQN.value_counts().max()"
   ]
  },
  {
   "cell_type": "code",
   "execution_count": 8,
   "metadata": {},
   "outputs": [],
   "source": [
    "conteos = pd_if_d1.describe().T[['count']]"
   ]
  },
  {
   "cell_type": "code",
   "execution_count": 9,
   "metadata": {},
   "outputs": [
    {
     "data": {
      "text/html": [
       "<div>\n",
       "<style scoped>\n",
       "    .dataframe tbody tr th:only-of-type {\n",
       "        vertical-align: middle;\n",
       "    }\n",
       "\n",
       "    .dataframe tbody tr th {\n",
       "        vertical-align: top;\n",
       "    }\n",
       "\n",
       "    .dataframe thead th {\n",
       "        text-align: right;\n",
       "    }\n",
       "</style>\n",
       "<table border=\"1\" class=\"dataframe\">\n",
       "  <thead>\n",
       "    <tr style=\"text-align: right;\">\n",
       "      <th></th>\n",
       "      <th>count</th>\n",
       "    </tr>\n",
       "  </thead>\n",
       "  <tbody>\n",
       "    <tr>\n",
       "      <th>DR1DBIH</th>\n",
       "      <td>778886.0</td>\n",
       "    </tr>\n",
       "    <tr>\n",
       "      <th>DR1ICHL</th>\n",
       "      <td>929624.0</td>\n",
       "    </tr>\n",
       "    <tr>\n",
       "      <th>DR1IVD</th>\n",
       "      <td>783798.0</td>\n",
       "    </tr>\n",
       "    <tr>\n",
       "      <th>DR1MC</th>\n",
       "      <td>701301.0</td>\n",
       "    </tr>\n",
       "    <tr>\n",
       "      <th>DRALANG</th>\n",
       "      <td>269588.0</td>\n",
       "    </tr>\n",
       "    <tr>\n",
       "      <th>...</th>\n",
       "      <td>...</td>\n",
       "    </tr>\n",
       "    <tr>\n",
       "      <th>DRXIVE</th>\n",
       "      <td>127147.0</td>\n",
       "    </tr>\n",
       "    <tr>\n",
       "      <th>DRXIVK</th>\n",
       "      <td>141931.0</td>\n",
       "    </tr>\n",
       "    <tr>\n",
       "      <th>DRXIWATE</th>\n",
       "      <td>127147.0</td>\n",
       "    </tr>\n",
       "    <tr>\n",
       "      <th>DRXIZINC</th>\n",
       "      <td>269078.0</td>\n",
       "    </tr>\n",
       "    <tr>\n",
       "      <th>WTDR4YR</th>\n",
       "      <td>269740.0</td>\n",
       "    </tr>\n",
       "  </tbody>\n",
       "</table>\n",
       "<p>90 rows × 1 columns</p>\n",
       "</div>"
      ],
      "text/plain": [
       "             count\n",
       "DR1DBIH   778886.0\n",
       "DR1ICHL   929624.0\n",
       "DR1IVD    783798.0\n",
       "DR1MC     701301.0\n",
       "DRALANG   269588.0\n",
       "...            ...\n",
       "DRXIVE    127147.0\n",
       "DRXIVK    141931.0\n",
       "DRXIWATE  127147.0\n",
       "DRXIZINC  269078.0\n",
       "WTDR4YR   269740.0\n",
       "\n",
       "[90 rows x 1 columns]"
      ]
     },
     "execution_count": 9,
     "metadata": {},
     "output_type": "execute_result"
    }
   ],
   "source": [
    "conteos[conteos['count'] < 1337703*0.7]"
   ]
  },
  {
   "cell_type": "code",
   "execution_count": 10,
   "metadata": {},
   "outputs": [
    {
     "data": {
      "text/plain": [
       "(89440, 170)"
      ]
     },
     "execution_count": 10,
     "metadata": {},
     "output_type": "execute_result"
    }
   ],
   "source": [
    "pd_if_d1_agg = pd_if_d1.groupby('SEQN').agg('mean')\n",
    "pd_if_d1_agg.shape"
   ]
  },
  {
   "cell_type": "code",
   "execution_count": 11,
   "metadata": {},
   "outputs": [
    {
     "data": {
      "text/html": [
       "<div>\n",
       "<style scoped>\n",
       "    .dataframe tbody tr th:only-of-type {\n",
       "        vertical-align: middle;\n",
       "    }\n",
       "\n",
       "    .dataframe tbody tr th {\n",
       "        vertical-align: top;\n",
       "    }\n",
       "\n",
       "    .dataframe thead th {\n",
       "        text-align: right;\n",
       "    }\n",
       "</style>\n",
       "<table border=\"1\" class=\"dataframe\">\n",
       "  <thead>\n",
       "    <tr style=\"text-align: right;\">\n",
       "      <th></th>\n",
       "      <th>count</th>\n",
       "    </tr>\n",
       "  </thead>\n",
       "  <tbody>\n",
       "    <tr>\n",
       "      <th>DR1DBIH</th>\n",
       "      <td>51656.0</td>\n",
       "    </tr>\n",
       "    <tr>\n",
       "      <th>DR1ICHL</th>\n",
       "      <td>61435.0</td>\n",
       "    </tr>\n",
       "    <tr>\n",
       "      <th>DR1IVD</th>\n",
       "      <td>52119.0</td>\n",
       "    </tr>\n",
       "    <tr>\n",
       "      <th>DR1MC</th>\n",
       "      <td>45909.0</td>\n",
       "    </tr>\n",
       "    <tr>\n",
       "      <th>DRALANG</th>\n",
       "      <td>18638.0</td>\n",
       "    </tr>\n",
       "    <tr>\n",
       "      <th>...</th>\n",
       "      <td>...</td>\n",
       "    </tr>\n",
       "    <tr>\n",
       "      <th>DRXIVE</th>\n",
       "      <td>8816.0</td>\n",
       "    </tr>\n",
       "    <tr>\n",
       "      <th>DRXIVK</th>\n",
       "      <td>9839.0</td>\n",
       "    </tr>\n",
       "    <tr>\n",
       "      <th>DRXIWATE</th>\n",
       "      <td>8816.0</td>\n",
       "    </tr>\n",
       "    <tr>\n",
       "      <th>DRXIZINC</th>\n",
       "      <td>18655.0</td>\n",
       "    </tr>\n",
       "    <tr>\n",
       "      <th>WTDR4YR</th>\n",
       "      <td>18608.0</td>\n",
       "    </tr>\n",
       "  </tbody>\n",
       "</table>\n",
       "<p>90 rows × 1 columns</p>\n",
       "</div>"
      ],
      "text/plain": [
       "            count\n",
       "DR1DBIH   51656.0\n",
       "DR1ICHL   61435.0\n",
       "DR1IVD    52119.0\n",
       "DR1MC     45909.0\n",
       "DRALANG   18638.0\n",
       "...           ...\n",
       "DRXIVE     8816.0\n",
       "DRXIVK     9839.0\n",
       "DRXIWATE   8816.0\n",
       "DRXIZINC  18655.0\n",
       "WTDR4YR   18608.0\n",
       "\n",
       "[90 rows x 1 columns]"
      ]
     },
     "execution_count": 11,
     "metadata": {},
     "output_type": "execute_result"
    }
   ],
   "source": [
    "conteos_agg = pd_if_d1_agg.describe().T[['count']]\n",
    "conteos_agg[conteos_agg['count'] < pd_if_d1_agg.shape[0]*0.7]"
   ]
  },
  {
   "cell_type": "code",
   "execution_count": 12,
   "metadata": {},
   "outputs": [],
   "source": [
    "pd_if_d1_agg = pd_if_d1_agg.drop(columns = ['DRDINT', 'WTDR2D'])\n",
    "pd_if_d1_agg.to_csv('./pd_if_d1_agg.csv', header = True, sep = '|', index = True)"
   ]
  },
  {
   "cell_type": "code",
   "execution_count": null,
   "metadata": {},
   "outputs": [],
   "source": []
  }
 ],
 "metadata": {
  "kernelspec": {
   "display_name": "Python 3",
   "language": "python",
   "name": "python3"
  },
  "language_info": {
   "codemirror_mode": {
    "name": "ipython",
    "version": 3
   },
   "file_extension": ".py",
   "mimetype": "text/x-python",
   "name": "python",
   "nbconvert_exporter": "python",
   "pygments_lexer": "ipython3",
   "version": "3.8.8"
  }
 },
 "nbformat": 4,
 "nbformat_minor": 4
}
