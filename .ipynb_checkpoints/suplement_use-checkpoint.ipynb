{
 "cells": [
  {
   "cell_type": "code",
   "execution_count": 2,
   "metadata": {},
   "outputs": [],
   "source": [
    "import numpy as np\n",
    "import pandas as pd\n",
    "import matplotlib.pyplot as plt\n",
    "import seaborn as sns\n",
    "import os\n",
    "import sys"
   ]
  },
  {
   "cell_type": "code",
   "execution_count": 3,
   "metadata": {},
   "outputs": [
    {
     "data": {
      "text/plain": [
       "'/home/hdap/Documents/maestria_unir/practicas/data_david/nutricional'"
      ]
     },
     "execution_count": 3,
     "metadata": {},
     "output_type": "execute_result"
    }
   ],
   "source": [
    "os.getcwd()"
   ]
  },
  {
   "cell_type": "code",
   "execution_count": 4,
   "metadata": {},
   "outputs": [],
   "source": [
    "leer = True"
   ]
  },
  {
   "cell_type": "code",
   "execution_count": 6,
   "metadata": {},
   "outputs": [
    {
     "name": "stdout",
     "output_type": "stream",
     "text": [
      "https://wwwn.cdc.gov/Nchs/Nhanes/2003-2004/DSQ2_C.XPT\n",
      "https://wwwn.cdc.gov/Nchs/Nhanes/2005-2006/DSQ2_D.XPT\n",
      "https://wwwn.cdc.gov/Nchs/Nhanes/2007-2008/DSQTOT_E.XPT\n",
      "https://wwwn.cdc.gov/Nchs/Nhanes/2009-2010/DSQTOT_F.XPT\n",
      "https://wwwn.cdc.gov/Nchs/Nhanes/2011-2012/DSQTOT_G.XPT\n",
      "https://wwwn.cdc.gov/Nchs/Nhanes/2013-2014/DSQTOT_H.XPT\n",
      "https://wwwn.cdc.gov/Nchs/Nhanes/2015-2016/DSQTOT_I.XPT\n",
      "https://wwwn.cdc.gov/Nchs/Nhanes/2017-2018/DSQTOT_J.XPT\n"
     ]
    }
   ],
   "source": [
    "if leer: \n",
    "    anos = ['2003-2004', '2005-2006', '2007-2008', '2009-2010', '2011-2012', '2013-2014','2015-2016', '2017-2018']\n",
    "    \n",
    "    extensiones = ['DSQ2_C.XPT', 'DSQ2_D.XPT','DSQTOT_E.XPT','DSQTOT_F.XPT','DSQTOT_G.XPT','DSQTOT_H.XPT', 'DSQTOT_I.XPT', 'DSQTOT_J.XPT']\n",
    "    \n",
    "    archivos = []\n",
    "    \n",
    "    for f,j in zip(anos, extensiones):\n",
    "        path = 'https://wwwn.cdc.gov/Nchs/Nhanes/{}/{}'.format(f,j)\n",
    "        print(path)\n",
    "        archivo = pd.read_sas(path, format='xport', encoding='utf-8')\n",
    "        archivos.append(archivo)\n",
    "    \n",
    "    pd_ = pd.concat(archivos, sort='False', ignore_index='True')\n",
    "    pd_.to_csv('./suplement_use.csv', header = True, sep = '|', index = False)\n",
    "\n"
   ]
  },
  {
   "cell_type": "code",
   "execution_count": 7,
   "metadata": {},
   "outputs": [
    {
     "data": {
      "text/plain": [
       "(76227, 48)"
      ]
     },
     "execution_count": 7,
     "metadata": {},
     "output_type": "execute_result"
    }
   ],
   "source": [
    "pd_.shape"
   ]
  }
 ],
 "metadata": {
  "kernelspec": {
   "display_name": "Python 3",
   "language": "python",
   "name": "python3"
  },
  "language_info": {
   "codemirror_mode": {
    "name": "ipython",
    "version": 3
   },
   "file_extension": ".py",
   "mimetype": "text/x-python",
   "name": "python",
   "nbconvert_exporter": "python",
   "pygments_lexer": "ipython3",
   "version": "3.8.5"
  }
 },
 "nbformat": 4,
 "nbformat_minor": 4
}
