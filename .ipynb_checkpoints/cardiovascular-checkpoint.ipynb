{
 "cells": [
  {
   "cell_type": "code",
   "execution_count": 1,
   "metadata": {},
   "outputs": [],
   "source": [
    "import numpy as np\n",
    "import pandas as pd\n",
    "import matplotlib.pyplot as plt\n",
    "import seaborn as sns\n",
    "import os\n",
    "import sys\n",
    "import traceback"
   ]
  },
  {
   "cell_type": "code",
   "execution_count": 2,
   "metadata": {},
   "outputs": [],
   "source": [
    "leer = True"
   ]
  },
  {
   "cell_type": "code",
   "execution_count": 3,
   "metadata": {},
   "outputs": [
    {
     "name": "stdout",
     "output_type": "stream",
     "text": [
      "2003-2004\n",
      "-----------------------------\n",
      "https://wwwn.cdc.gov/Nchs/Nhanes/2003-2004/CDQ_C.XPT\n",
      "(1684, 17)\n",
      "2005-2006\n",
      "-----------------------------\n",
      "https://wwwn.cdc.gov/Nchs/Nhanes/2005-2006/CDQ_D.XPT\n",
      "(1510, 17)\n",
      "2007-2008\n",
      "-----------------------------\n",
      "https://wwwn.cdc.gov/Nchs/Nhanes/2007-2008/CDQ_E.XPT\n",
      "(1868, 17)\n",
      "2009-2010\n",
      "-----------------------------\n",
      "https://wwwn.cdc.gov/Nchs/Nhanes/2009-2010/CDQ_F.XPT\n",
      "(1721, 17)\n",
      "2011-2012\n",
      "-----------------------------\n",
      "https://wwwn.cdc.gov/Nchs/Nhanes/2011-2012/CDQ_G.XPT\n",
      "(1520, 17)\n",
      "2013-2014\n",
      "-----------------------------\n",
      "https://wwwn.cdc.gov/Nchs/Nhanes/2013-2014/CDQ_H.XPT\n",
      "(1519, 17)\n",
      "2015-2016\n",
      "-----------------------------\n",
      "https://wwwn.cdc.gov/Nchs/Nhanes/2015-2016/CDQ_I.XPT\n",
      "(1736, 17)\n",
      "2017-2018\n",
      "-----------------------------\n",
      "https://wwwn.cdc.gov/Nchs/Nhanes/2017-2018/CDQ_J.XPT\n",
      "(1888, 17)\n",
      "(13446, 2)\n"
     ]
    }
   ],
   "source": [
    "if leer:\n",
    "    anos = ['2003-2004', '2005-2006', '2007-2008', '2009-2010', '2011-2012', '2013-2014','2015-2016', '2017-2018']\n",
    "    \n",
    "    extension = ['CDQ_C','CDQ_D','CDQ_E','CDQ_F','CDQ_G','CDQ_H','CDQ_I','CDQ_J','CDQ_K']\n",
    "    \n",
    "    archivos = []\n",
    "    \n",
    "    for f,j in zip(anos,extension):\n",
    "        try:\n",
    "            print(f)\n",
    "            print('-----------------------------')\n",
    "            path = 'https://wwwn.cdc.gov/Nchs/Nhanes/{}/{}.XPT'.format(f, j)\n",
    "            print(path)\n",
    "            archivo = pd.read_sas(path, format='xport', encoding='utf-8')\n",
    "            archivo = archivo[(archivo.CDQ001==1)|(archivo.CDQ002==1)|(archivo.CDQ003==1)|(archivo.CDQ008==1)|(archivo.CDQ010==1)]\n",
    "            print(archivo.shape)\n",
    "            archivo = archivo[['SEQN']]\n",
    "            archivo[['enfermedad_cardiovascular']] = 1\n",
    "            archivos.append(archivo)\n",
    "        except Exception as exc:\n",
    "            print(path)\n",
    "            print(traceback.format_exc())\n",
    "            print(exc)\n",
    "            print('--------------------')\n",
    "            pass\n",
    "    \n",
    "    pd_ = pd.concat(archivos, sort='False', ignore_index='True')\n",
    "    pd_ = pd_.drop_duplicates()\n",
    "    pd_.to_csv('./total_cardiovascular.csv', header = True, sep = '|', index = False)\n",
    "    print(pd_.shape)"
   ]
  },
  {
   "cell_type": "code",
   "execution_count": null,
   "metadata": {},
   "outputs": [],
   "source": []
  }
 ],
 "metadata": {
  "kernelspec": {
   "display_name": "Python 3",
   "language": "python",
   "name": "python3"
  },
  "language_info": {
   "codemirror_mode": {
    "name": "ipython",
    "version": 3
   },
   "file_extension": ".py",
   "mimetype": "text/x-python",
   "name": "python",
   "nbconvert_exporter": "python",
   "pygments_lexer": "ipython3",
   "version": "3.8.5"
  }
 },
 "nbformat": 4,
 "nbformat_minor": 4
}
