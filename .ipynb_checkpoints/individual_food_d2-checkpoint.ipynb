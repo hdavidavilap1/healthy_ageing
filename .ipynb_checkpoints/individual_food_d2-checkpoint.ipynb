{
 "cells": [
  {
   "cell_type": "code",
   "execution_count": 1,
   "metadata": {},
   "outputs": [],
   "source": [
    "import numpy as np\n",
    "import pandas as pd\n",
    "import matplotlib.pyplot as plt\n",
    "import seaborn as sns\n",
    "import os\n",
    "import sys"
   ]
  },
  {
   "cell_type": "code",
   "execution_count": 2,
   "metadata": {},
   "outputs": [
    {
     "data": {
      "text/plain": [
       "'/home/hdap/Documents/maestria_unir/practicas/data_david/nutricional'"
      ]
     },
     "execution_count": 2,
     "metadata": {},
     "output_type": "execute_result"
    }
   ],
   "source": [
    "os.getcwd()"
   ]
  },
  {
   "cell_type": "code",
   "execution_count": 3,
   "metadata": {},
   "outputs": [],
   "source": [
    "leer = False"
   ]
  },
  {
   "cell_type": "code",
   "execution_count": 4,
   "metadata": {},
   "outputs": [],
   "source": [
    "if leer: \n",
    "    anos = ['2003-2004', '2005-2006', '2007-2008', '2009-2010', '2011-2012', '2013-2014','2015-2016', '2017-2018']\n",
    "    \n",
    "    extensiones = ['DR2IFF_C.XPT', 'DR2IFF_D.XPT','DR2IFF_E.XPT','DR2IFF_F.XPT','DR2IFF_G.XPT','DR2IFF_H.XPT', 'DR2IFF_I.XPT', 'DR2IFF_J.XPT']\n",
    "    \n",
    "    \n",
    "    archivos = []\n",
    "    \n",
    "    for f,j in zip(anos, extensiones):\n",
    "        path = 'https://wwwn.cdc.gov/Nchs/Nhanes/{}/{}'.format(f,j)\n",
    "        print(path)\n",
    "        archivo = pd.read_sas(path, format='xport', encoding='utf-8')\n",
    "        archivos.append(archivo)\n",
    "    \n",
    "    pd_ = pd.concat(archivos, sort='False', ignore_index='True')\n",
    "    pd_.to_csv('./individual_food_d2.csv', header = True, sep = '|', index = False)\n",
    "\n"
   ]
  },
  {
   "cell_type": "code",
   "execution_count": 5,
   "metadata": {},
   "outputs": [
    {
     "name": "stdout",
     "output_type": "stream",
     "text": [
      "(922363, 85)\n",
      "float64    84\n",
      "int64       1\n",
      "dtype: int64\n",
      "1 56\n",
      "          count\n",
      "DR2MC  615605.0\n"
     ]
    }
   ],
   "source": [
    "pd_if_d2 = pd.read_csv('./individual_food_d2.csv', sep = '|')\n",
    "pd_if_d2['SEQN'] = pd_if_d2['SEQN'].astype(int)\n",
    "print(pd_if_d2.shape)\n",
    "print(pd_if_d2.dtypes.value_counts())\n",
    "print(pd_if_d2.SEQN.value_counts().min(), pd_if_d2.SEQN.value_counts().max())\n",
    "conteos = pd_if_d2.describe().T[['count']]\n",
    "print(conteos[conteos['count'] < 922363*0.7])"
   ]
  },
  {
   "cell_type": "code",
   "execution_count": 6,
   "metadata": {},
   "outputs": [
    {
     "name": "stdout",
     "output_type": "stream",
     "text": [
      "['WTDRD1']\n"
     ]
    }
   ],
   "source": [
    "print([c for c in pd_if_d2.columns if 'WTDRD' in c or '_y'in c])"
   ]
  },
  {
   "cell_type": "code",
   "execution_count": 7,
   "metadata": {},
   "outputs": [
    {
     "name": "stdout",
     "output_type": "stream",
     "text": [
      "(61867, 84)\n"
     ]
    },
    {
     "data": {
      "text/html": [
       "<div>\n",
       "<style scoped>\n",
       "    .dataframe tbody tr th:only-of-type {\n",
       "        vertical-align: middle;\n",
       "    }\n",
       "\n",
       "    .dataframe tbody tr th {\n",
       "        vertical-align: top;\n",
       "    }\n",
       "\n",
       "    .dataframe thead th {\n",
       "        text-align: right;\n",
       "    }\n",
       "</style>\n",
       "<table border=\"1\" class=\"dataframe\">\n",
       "  <thead>\n",
       "    <tr style=\"text-align: right;\">\n",
       "      <th></th>\n",
       "      <th>count</th>\n",
       "    </tr>\n",
       "  </thead>\n",
       "  <tbody>\n",
       "    <tr>\n",
       "      <th>DR2MC</th>\n",
       "      <td>40628.0</td>\n",
       "    </tr>\n",
       "  </tbody>\n",
       "</table>\n",
       "</div>"
      ],
      "text/plain": [
       "         count\n",
       "DR2MC  40628.0"
      ]
     },
     "execution_count": 7,
     "metadata": {},
     "output_type": "execute_result"
    }
   ],
   "source": [
    "pd_if_d2_agg = pd_if_d2.groupby('SEQN').agg('mean')\n",
    "print(pd_if_d2_agg.shape)\n",
    "\n",
    "conteos_agg = pd_if_d2_agg.describe().T[['count']]\n",
    "conteos_agg[conteos_agg['count'] < pd_if_d2_agg.shape[0]*0.7]"
   ]
  },
  {
   "cell_type": "code",
   "execution_count": 8,
   "metadata": {},
   "outputs": [
    {
     "name": "stdout",
     "output_type": "stream",
     "text": [
      "['DR2CCMNM', 'DR2CCMTX', 'DR2DAY', 'DR2DBIH', 'DR2DRSTZ', 'DR2EXMER', 'DR2FS', 'DR2IACAR', 'DR2IALCO', 'DR2IATOA', 'DR2IATOC', 'DR2IB12A', 'DR2IBCAR', 'DR2ICAFF', 'DR2ICALC', 'DR2ICARB', 'DR2ICHL', 'DR2ICHOL', 'DR2ICOPP', 'DR2ICRYP', 'DR2IFA', 'DR2IFDCD', 'DR2IFDFE', 'DR2IFF', 'DR2IFIBE', 'DR2IFOLA', 'DR2IGRMS', 'DR2IIRON', 'DR2IKCAL', 'DR2ILINE', 'DR2ILYCO', 'DR2ILZ', 'DR2IM161', 'DR2IM181', 'DR2IM201', 'DR2IM221', 'DR2IMAGN', 'DR2IMFAT', 'DR2IMOIS', 'DR2INIAC', 'DR2IP182', 'DR2IP183', 'DR2IP184', 'DR2IP204', 'DR2IP205', 'DR2IP225', 'DR2IP226', 'DR2IPFAT', 'DR2IPHOS', 'DR2IPOTA', 'DR2IPROT', 'DR2IRET', 'DR2IS040', 'DR2IS060', 'DR2IS080', 'DR2IS100', 'DR2IS120', 'DR2IS140', 'DR2IS160', 'DR2IS180', 'DR2ISELE', 'DR2ISFAT', 'DR2ISODI', 'DR2ISUGR', 'DR2ITFAT', 'DR2ITHEO', 'DR2IVARA', 'DR2IVB1', 'DR2IVB12', 'DR2IVB2', 'DR2IVB6', 'DR2IVC', 'DR2IVD', 'DR2IVK', 'DR2IZINC', 'DR2LANG', 'DR2MC', 'DR2_020', 'DR2_030Z', 'DR2_040Z', 'DRABF', 'DRDINT', 'SEQN', 'WTDR2D', 'WTDRD1']\n"
     ]
    }
   ],
   "source": [
    "print([c for c in pd_if_d2.columns])"
   ]
  },
  {
   "cell_type": "code",
   "execution_count": 9,
   "metadata": {},
   "outputs": [],
   "source": [
    "pd_if_d2_agg = pd_if_d2_agg.drop(columns = ['DRDINT','WTDRD1'])\n",
    "pd_if_d2_agg.to_csv('./pd_if_d2_agg.csv', header = True, sep = '|')"
   ]
  },
  {
   "cell_type": "code",
   "execution_count": null,
   "metadata": {},
   "outputs": [],
   "source": []
  }
 ],
 "metadata": {
  "kernelspec": {
   "display_name": "Python 3",
   "language": "python",
   "name": "python3"
  },
  "language_info": {
   "codemirror_mode": {
    "name": "ipython",
    "version": 3
   },
   "file_extension": ".py",
   "mimetype": "text/x-python",
   "name": "python",
   "nbconvert_exporter": "python",
   "pygments_lexer": "ipython3",
   "version": "3.8.5"
  }
 },
 "nbformat": 4,
 "nbformat_minor": 4
}
