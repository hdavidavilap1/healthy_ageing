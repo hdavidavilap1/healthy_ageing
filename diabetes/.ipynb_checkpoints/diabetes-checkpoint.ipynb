{
 "cells": [
  {
   "cell_type": "code",
   "execution_count": 11,
   "metadata": {},
   "outputs": [],
   "source": [
    "import numpy as np\n",
    "import pandas as pd\n",
    "import matplotlib.pyplot as plt\n",
    "import seaborn as sns\n",
    "import os\n",
    "import sys"
   ]
  },
  {
   "cell_type": "code",
   "execution_count": 14,
   "metadata": {},
   "outputs": [],
   "source": [
    "leer = True"
   ]
  },
  {
   "cell_type": "code",
   "execution_count": 15,
   "metadata": {},
   "outputs": [
    {
     "name": "stdout",
     "output_type": "stream",
     "text": [
      "2003-2004\n",
      "-----------------------------\n",
      "https://wwwn.cdc.gov/Nchs/Nhanes/2003-2004/DIQ_C.XPT\n",
      "2005-2006\n",
      "-----------------------------\n",
      "https://wwwn.cdc.gov/Nchs/Nhanes/2005-2006/DIQ_D.XPT\n",
      "2007-2008\n",
      "-----------------------------\n",
      "https://wwwn.cdc.gov/Nchs/Nhanes/2007-2008/DIQ_E.XPT\n",
      "2009-2010\n",
      "-----------------------------\n",
      "https://wwwn.cdc.gov/Nchs/Nhanes/2009-2010/DIQ_F.XPT\n",
      "2011-2012\n",
      "-----------------------------\n",
      "https://wwwn.cdc.gov/Nchs/Nhanes/2011-2012/DIQ_G.XPT\n",
      "2013-2014\n",
      "-----------------------------\n",
      "https://wwwn.cdc.gov/Nchs/Nhanes/2013-2014/DIQ_H.XPT\n",
      "2015-2016\n",
      "-----------------------------\n",
      "https://wwwn.cdc.gov/Nchs/Nhanes/2015-2016/DIQ_I.XPT\n",
      "2017-2018\n",
      "-----------------------------\n",
      "https://wwwn.cdc.gov/Nchs/Nhanes/2017-2018/DIQ_J.XPT\n"
     ]
    }
   ],
   "source": [
    "\n",
    "if leer:\n",
    "    anos = ['2003-2004', '2005-2006', '2007-2008', '2009-2010', '2011-2012', '2013-2014','2015-2016', '2017-2018']\n",
    "    \n",
    "    extension = ['DIQ_C','DIQ_D','DIQ_E','DIQ_F','DIQ_G','DIQ_H','DIQ_I','DIQ_J','DIQ_K']\n",
    "    \n",
    "    archivos = []\n",
    "    \n",
    "    for f,j in zip(anos,extension):\n",
    "        try:\n",
    "            print(f)\n",
    "            print('-----------------------------')\n",
    "            path = 'https://wwwn.cdc.gov/Nchs/Nhanes/{}/{}.XPT'.format(f, j)\n",
    "            print(path)\n",
    "            archivo = pd.read_sas(path, format='xport', encoding='utf-8')\n",
    "            \n",
    "            archivo = archivo[['SEQN']]\n",
    "            archivo[['enfermedad_diabetes']] = 1\n",
    "            archivos.append(archivo)\n",
    "        except Exception as exc:\n",
    "            print(path)\n",
    "            print(traceback.format_exc())\n",
    "            print(exc)\n",
    "            print('--------------------')\n",
    "            pass\n",
    "    \n",
    "    pd_ = pd.concat(archivos, sort='False', ignore_index='True')\n",
    "    pd_ = pd_.drop_duplicates()\n",
    "    pd_.to_csv('./total_diabetes.csv', header = True, sep = '|', index = False)\n"
   ]
  },
  {
   "cell_type": "code",
   "execution_count": null,
   "metadata": {},
   "outputs": [],
   "source": []
  }
 ],
 "metadata": {
  "kernelspec": {
   "display_name": "Python 3",
   "language": "python",
   "name": "python3"
  },
  "language_info": {
   "codemirror_mode": {
    "name": "ipython",
    "version": 3
   },
   "file_extension": ".py",
   "mimetype": "text/x-python",
   "name": "python",
   "nbconvert_exporter": "python",
   "pygments_lexer": "ipython3",
   "version": "3.8.5"
  }
 },
 "nbformat": 4,
 "nbformat_minor": 4
}
