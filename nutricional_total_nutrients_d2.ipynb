{
 "cells": [
  {
   "cell_type": "code",
   "execution_count": 1,
   "metadata": {},
   "outputs": [],
   "source": [
    "import numpy as np\n",
    "import pandas as pd\n",
    "import matplotlib.pyplot as plt\n",
    "import seaborn as sns\n",
    "import os\n",
    "import sys"
   ]
  },
  {
   "cell_type": "code",
   "execution_count": 2,
   "metadata": {},
   "outputs": [
    {
     "data": {
      "text/plain": [
       "'/home/hdap/Documents/maestria_unir/practicas/data_david/nutricional'"
      ]
     },
     "execution_count": 2,
     "metadata": {},
     "output_type": "execute_result"
    }
   ],
   "source": [
    "os.getcwd()"
   ]
  },
  {
   "cell_type": "code",
   "execution_count": 3,
   "metadata": {},
   "outputs": [],
   "source": [
    "leer = False"
   ]
  },
  {
   "cell_type": "code",
   "execution_count": 4,
   "metadata": {},
   "outputs": [],
   "source": [
    "if leer:\n",
    "    anos = ['2003-2004', '2005-2006', '2007-2008', '2009-2010', '2011-2012', '2013-2014','2015-2016', '2017-2018']\n",
    "    \n",
    "    extension = ['DR2TOT_C','DR2TOT_D','DR2TOT_E','DR2TOT_F','DR2TOT_G','DR2TOT_H','DR2TOT_I','DR2TOT_J','DR2TOT_K']\n",
    "    \n",
    "    archivos = []\n",
    "    \n",
    "    for f,j in zip(anos,extension):\n",
    "        path = 'https://wwwn.cdc.gov/Nchs/Nhanes/{}/{}.XPT'.format(f, j)\n",
    "        print(path)\n",
    "        archivo = pd.read_sas(path, format='xport', encoding='utf-8')\n",
    "        archivos.append(archivo)\n",
    "    \n",
    "    pd_ = pd.concat(archivos, sort='False', ignore_index='True')\n",
    "    pd_.to_csv('./total_nutrientes_d2.csv', header = True, sep = '|', index = False)\n"
   ]
  },
  {
   "cell_type": "code",
   "execution_count": 5,
   "metadata": {},
   "outputs": [
    {
     "name": "stdout",
     "output_type": "stream",
     "text": [
      "(77007, 92)\n",
      "float64    91\n",
      "int64       1\n",
      "dtype: int64\n",
      "1 1\n",
      "            count\n",
      "DR2BWATR   8394.0\n",
      "DR2BWATZ  53518.0\n",
      "DR2CWATR   8406.0\n",
      "DR2DBIH   44923.0\n",
      "DR2HELP   13661.0\n",
      "DR2HELPD  48094.0\n",
      "DR2MNRSP  48144.0\n",
      "DR2MRESP  13666.0\n",
      "DR2SKY     3131.0\n",
      "DR2STY    21400.0\n",
      "DR2TCHL   52593.0\n",
      "DR2TVD    44329.0\n",
      "DR2TWS    52365.0\n",
      "DR2TWSZ    6714.0\n",
      "DR2_320    8364.0\n",
      "DR2_320Z  53518.0\n",
      "DR2_330    8374.0\n",
      "DR2_330Z  53518.0\n"
     ]
    }
   ],
   "source": [
    "pd_nut_d2 = pd.read_csv('./total_nutrientes_d2.csv', sep = '|')\n",
    "pd_nut_d2['SEQN'] = pd_nut_d2['SEQN'].astype(int)\n",
    "print(pd_nut_d2.shape)\n",
    "print(pd_nut_d2.dtypes.value_counts())\n",
    "print(pd_nut_d2.SEQN.value_counts().min(), pd_nut_d2.SEQN.value_counts().max())\n",
    "conteos = pd_nut_d2.describe().T[['count']]\n",
    "print(conteos[conteos['count'] < 77007*0.7])"
   ]
  },
  {
   "cell_type": "code",
   "execution_count": 6,
   "metadata": {},
   "outputs": [],
   "source": [
    "pd_nut_d2_agg = round(pd_nut_d2.groupby('SEQN',as_index = False).agg('sum'),2)\n"
   ]
  },
  {
   "cell_type": "code",
   "execution_count": 7,
   "metadata": {},
   "outputs": [
    {
     "data": {
      "text/plain": [
       "(1, 1)"
      ]
     },
     "execution_count": 7,
     "metadata": {},
     "output_type": "execute_result"
    }
   ],
   "source": [
    "pd_nut_d2_agg.SEQN.value_counts().min(), pd_nut_d2_agg.SEQN.value_counts().max()"
   ]
  },
  {
   "cell_type": "code",
   "execution_count": 8,
   "metadata": {},
   "outputs": [
    {
     "name": "stdout",
     "output_type": "stream",
     "text": [
      "(77007, 91)\n"
     ]
    },
    {
     "data": {
      "text/html": [
       "<div>\n",
       "<style scoped>\n",
       "    .dataframe tbody tr th:only-of-type {\n",
       "        vertical-align: middle;\n",
       "    }\n",
       "\n",
       "    .dataframe tbody tr th {\n",
       "        vertical-align: top;\n",
       "    }\n",
       "\n",
       "    .dataframe thead th {\n",
       "        text-align: right;\n",
       "    }\n",
       "</style>\n",
       "<table border=\"1\" class=\"dataframe\">\n",
       "  <thead>\n",
       "    <tr style=\"text-align: right;\">\n",
       "      <th></th>\n",
       "      <th>count</th>\n",
       "    </tr>\n",
       "  </thead>\n",
       "  <tbody>\n",
       "    <tr>\n",
       "      <th>DR2BWATR</th>\n",
       "      <td>8394.0</td>\n",
       "    </tr>\n",
       "    <tr>\n",
       "      <th>DR2BWATZ</th>\n",
       "      <td>53518.0</td>\n",
       "    </tr>\n",
       "    <tr>\n",
       "      <th>DR2CWATR</th>\n",
       "      <td>8406.0</td>\n",
       "    </tr>\n",
       "    <tr>\n",
       "      <th>DR2DBIH</th>\n",
       "      <td>44923.0</td>\n",
       "    </tr>\n",
       "    <tr>\n",
       "      <th>DR2HELP</th>\n",
       "      <td>13661.0</td>\n",
       "    </tr>\n",
       "    <tr>\n",
       "      <th>DR2HELPD</th>\n",
       "      <td>48094.0</td>\n",
       "    </tr>\n",
       "    <tr>\n",
       "      <th>DR2MNRSP</th>\n",
       "      <td>48144.0</td>\n",
       "    </tr>\n",
       "    <tr>\n",
       "      <th>DR2MRESP</th>\n",
       "      <td>13666.0</td>\n",
       "    </tr>\n",
       "    <tr>\n",
       "      <th>DR2SKY</th>\n",
       "      <td>3131.0</td>\n",
       "    </tr>\n",
       "    <tr>\n",
       "      <th>DR2STY</th>\n",
       "      <td>21400.0</td>\n",
       "    </tr>\n",
       "    <tr>\n",
       "      <th>DR2TCHL</th>\n",
       "      <td>52593.0</td>\n",
       "    </tr>\n",
       "    <tr>\n",
       "      <th>DR2TVD</th>\n",
       "      <td>44329.0</td>\n",
       "    </tr>\n",
       "    <tr>\n",
       "      <th>DR2TWS</th>\n",
       "      <td>52365.0</td>\n",
       "    </tr>\n",
       "    <tr>\n",
       "      <th>DR2TWSZ</th>\n",
       "      <td>6714.0</td>\n",
       "    </tr>\n",
       "    <tr>\n",
       "      <th>DR2_320</th>\n",
       "      <td>8364.0</td>\n",
       "    </tr>\n",
       "    <tr>\n",
       "      <th>DR2_320Z</th>\n",
       "      <td>53518.0</td>\n",
       "    </tr>\n",
       "    <tr>\n",
       "      <th>DR2_330</th>\n",
       "      <td>8374.0</td>\n",
       "    </tr>\n",
       "    <tr>\n",
       "      <th>DR2_330Z</th>\n",
       "      <td>53518.0</td>\n",
       "    </tr>\n",
       "  </tbody>\n",
       "</table>\n",
       "</div>"
      ],
      "text/plain": [
       "            count\n",
       "DR2BWATR   8394.0\n",
       "DR2BWATZ  53518.0\n",
       "DR2CWATR   8406.0\n",
       "DR2DBIH   44923.0\n",
       "DR2HELP   13661.0\n",
       "DR2HELPD  48094.0\n",
       "DR2MNRSP  48144.0\n",
       "DR2MRESP  13666.0\n",
       "DR2SKY     3131.0\n",
       "DR2STY    21400.0\n",
       "DR2TCHL   52593.0\n",
       "DR2TVD    44329.0\n",
       "DR2TWS    52365.0\n",
       "DR2TWSZ    6714.0\n",
       "DR2_320    8364.0\n",
       "DR2_320Z  53518.0\n",
       "DR2_330    8374.0\n",
       "DR2_330Z  53518.0"
      ]
     },
     "execution_count": 8,
     "metadata": {},
     "output_type": "execute_result"
    }
   ],
   "source": [
    "pd_nut_d2_agg = pd_nut_d2.groupby('SEQN').agg('mean')\n",
    "print(pd_nut_d2_agg.shape)\n",
    "\n",
    "\n",
    "conteos_agg = pd_nut_d2_agg.describe().T[['count']]\n",
    "conteos_agg[conteos_agg['count'] < pd_nut_d2_agg.shape[0]*0.7]"
   ]
  },
  {
   "cell_type": "code",
   "execution_count": 9,
   "metadata": {},
   "outputs": [],
   "source": [
    "pd_nut_d2_agg = pd_nut_d2_agg.drop(columns = ['DRDINT', 'WTDRD1'])\n",
    "pd_nut_d2_agg.to_csv('./total_nutrientes_d2_agg.csv', header = True, sep = '|')"
   ]
  }
 ],
 "metadata": {
  "kernelspec": {
   "display_name": "Python 3",
   "language": "python",
   "name": "python3"
  },
  "language_info": {
   "codemirror_mode": {
    "name": "ipython",
    "version": 3
   },
   "file_extension": ".py",
   "mimetype": "text/x-python",
   "name": "python",
   "nbconvert_exporter": "python",
   "pygments_lexer": "ipython3",
   "version": "3.8.8"
  }
 },
 "nbformat": 4,
 "nbformat_minor": 4
}
