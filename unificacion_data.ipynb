{
 "cells": [
  {
   "cell_type": "code",
   "execution_count": 6,
   "metadata": {},
   "outputs": [
    {
     "data": {
      "text/plain": [
       "'/home/hdap/Documents/maestria_unir/practicas/data_david/nutricional'"
      ]
     },
     "execution_count": 6,
     "metadata": {},
     "output_type": "execute_result"
    }
   ],
   "source": [
    "import numpy as np\n",
    "import pandas as pd\n",
    "import matplotlib.pyplot as plt\n",
    "import seaborn as sns\n",
    "import os\n",
    "import sys\n",
    "os.getcwd()"
   ]
  },
  {
   "cell_type": "code",
   "execution_count": 7,
   "metadata": {},
   "outputs": [
    {
     "name": "stdout",
     "output_type": "stream",
     "text": [
      "[]\n",
      "[]\n",
      "[]\n",
      "[]\n"
     ]
    }
   ],
   "source": [
    "pd_if_d1_agg = pd.read_csv('./pd_if_d1_agg.csv', sep = '|')\n",
    "pd_if_d2_agg = pd.read_csv('./pd_if_d2_agg.csv', sep = '|')\n",
    "pd_nut_d1_agg = pd.read_csv('./total_nutrientes_d1_agg.csv', sep = '|')\n",
    "pd_nut_d2_agg = pd.read_csv('./total_nutrientes_d2_agg.csv', sep = '|')\n",
    "\n",
    "print([c for c in pd_if_d1_agg.columns if '_x' in c or '_y'in c])\n",
    "print([c for c in pd_if_d2_agg.columns if '_x' in c or '_y'in c])\n",
    "print([c for c in pd_nut_d1_agg.columns if '_x' in c or '_y'in c])\n",
    "print([c for c in pd_nut_d2_agg.columns if '_x' in c or '_y'in c])"
   ]
  },
  {
   "cell_type": "code",
   "execution_count": 8,
   "metadata": {},
   "outputs": [
    {
     "name": "stdout",
     "output_type": "stream",
     "text": [
      "---------------\n",
      "DR2LANG\n",
      "[]\n",
      "['DR2LANG']\n",
      "[]\n",
      "['DR2LANG']\n",
      "---------------\n",
      "DR1LANG\n",
      "['DR1LANG']\n",
      "[]\n",
      "['DR1LANG']\n",
      "[]\n"
     ]
    }
   ],
   "source": [
    "word = 'DR2LANG'\n",
    "print('---------------')\n",
    "print(word)\n",
    "print([c for c in pd_if_d1_agg.columns if word in c])\n",
    "print([c for c in pd_if_d2_agg.columns if word in c])\n",
    "print([c for c in pd_nut_d1_agg.columns if word in c])\n",
    "print([c for c in pd_nut_d2_agg.columns if word in c])\n",
    "\n",
    "\n",
    "word = 'DR1LANG'\n",
    "print('---------------')\n",
    "print(word)\n",
    "\n",
    "print([c for c in pd_if_d1_agg.columns if word in c])\n",
    "print([c for c in pd_if_d2_agg.columns if word in c])\n",
    "print([c for c in pd_nut_d1_agg.columns if word in c])\n",
    "print([c for c in pd_nut_d2_agg.columns if word in c])"
   ]
  },
  {
   "cell_type": "code",
   "execution_count": 9,
   "metadata": {},
   "outputs": [],
   "source": [
    "pd_if_d1_agg['SEQN'] = pd_if_d1_agg['SEQN'].astype(int)\n",
    "pd_if_d2_agg['SEQN'] = pd_if_d2_agg['SEQN'].astype(int)\n",
    "pd_nut_d1_agg['SEQN'] = pd_nut_d1_agg['SEQN'].astype(int)\n",
    "pd_nut_d2_agg['SEQN'] = pd_nut_d2_agg['SEQN'].astype(int)"
   ]
  },
  {
   "cell_type": "code",
   "execution_count": 10,
   "metadata": {},
   "outputs": [
    {
     "name": "stdout",
     "output_type": "stream",
     "text": [
      "[]\n"
     ]
    }
   ],
   "source": [
    "pd_demo = round(pd.read_csv('../demografica/consolidado_demo.csv', sep = '|'),2)\n",
    "pd_demo['SEQN'] = pd_demo['SEQN'].astype(int)\n",
    "print([c for c in pd_demo.columns if '_x' in c or '_y'in c])"
   ]
  },
  {
   "cell_type": "code",
   "execution_count": 11,
   "metadata": {},
   "outputs": [
    {
     "data": {
      "text/plain": [
       "(101316, 2)"
      ]
     },
     "execution_count": 11,
     "metadata": {},
     "output_type": "execute_result"
    }
   ],
   "source": [
    "pd_demo = pd_demo[['SEQN','RIDAGEYR']]\n",
    "pd_demo.shape"
   ]
  },
  {
   "cell_type": "code",
   "execution_count": 12,
   "metadata": {},
   "outputs": [
    {
     "name": "stdout",
     "output_type": "stream",
     "text": [
      "(24394, 169)\n",
      "(61867, 83)\n",
      "(94667, 292)\n",
      "(77007, 90)\n"
     ]
    }
   ],
   "source": [
    "print(pd_if_d1_agg.shape)\n",
    "print(pd_if_d2_agg.shape) \n",
    "print(pd_nut_d1_agg.shape)\n",
    "print(pd_nut_d2_agg.shape)"
   ]
  },
  {
   "cell_type": "code",
   "execution_count": 13,
   "metadata": {},
   "outputs": [
    {
     "data": {
      "text/plain": [
       "634"
      ]
     },
     "execution_count": 13,
     "metadata": {},
     "output_type": "execute_result"
    }
   ],
   "source": [
    "pd_if_d1_agg.shape[1]+pd_if_d2_agg.shape[1]+pd_nut_d1_agg.shape[1]+pd_nut_d2_agg.shape[1]"
   ]
  },
  {
   "cell_type": "code",
   "execution_count": 14,
   "metadata": {},
   "outputs": [],
   "source": [
    "pd_if = pd.merge(pd_if_d1_agg, pd_if_d2_agg, on = 'SEQN', how = 'outer')\n"
   ]
  },
  {
   "cell_type": "code",
   "execution_count": 15,
   "metadata": {},
   "outputs": [
    {
     "name": "stdout",
     "output_type": "stream",
     "text": [
      "['DRABF_x', 'DRABF_y']\n"
     ]
    }
   ],
   "source": [
    "print([c for c in pd_if.columns if '_x' in c or '_y'in c])"
   ]
  },
  {
   "cell_type": "code",
   "execution_count": 16,
   "metadata": {},
   "outputs": [
    {
     "data": {
      "text/plain": [
       "(96766, 381)"
      ]
     },
     "execution_count": 16,
     "metadata": {},
     "output_type": "execute_result"
    }
   ],
   "source": [
    "pd_nut =  pd.merge(pd_nut_d1_agg, pd_nut_d2_agg, on = 'SEQN', how = 'outer' )\n",
    "pd_nut.shape"
   ]
  },
  {
   "cell_type": "code",
   "execution_count": 17,
   "metadata": {},
   "outputs": [
    {
     "name": "stdout",
     "output_type": "stream",
     "text": [
      "['DRABF_x', 'DRABF_y']\n"
     ]
    }
   ],
   "source": [
    "print([c for c in pd_nut.columns if '_x' in c or '_y'in c])"
   ]
  },
  {
   "cell_type": "code",
   "execution_count": 18,
   "metadata": {},
   "outputs": [
    {
     "data": {
      "text/plain": [
       "(96766, 631)"
      ]
     },
     "execution_count": 18,
     "metadata": {},
     "output_type": "execute_result"
    }
   ],
   "source": [
    "pd_nutricion = pd.merge(pd_if,pd_nut, on = 'SEQN', how = 'outer')\n",
    "pd_nutricion.shape"
   ]
  },
  {
   "cell_type": "code",
   "execution_count": 19,
   "metadata": {},
   "outputs": [
    {
     "data": {
      "text/plain": [
       "(101316, 632)"
      ]
     },
     "execution_count": 19,
     "metadata": {},
     "output_type": "execute_result"
    }
   ],
   "source": [
    "pd_final = pd.merge(pd_demo, pd_nutricion, on = 'SEQN', how = 'outer')\n",
    "pd_final.shape"
   ]
  },
  {
   "cell_type": "code",
   "execution_count": 20,
   "metadata": {},
   "outputs": [
    {
     "name": "stdout",
     "output_type": "stream",
     "text": [
      "['DR1DAY_x', 'DR1DBIH_x', 'DR1DRSTZ_x', 'DR1EXMER_x', 'DR1LANG_x', 'DRABF_x_x', 'DRALANG_x', 'DRDDAY_x', 'DRDDRSTS_x', 'DRDDRSTZ_x', 'DRDINTMD_x', 'WTDR4YR_x', 'WTDRD1_x', 'DR2DAY_x', 'DR2DBIH_x', 'DR2DRSTZ_x', 'DR2EXMER_x', 'DR2LANG_x', 'DRABF_y_x', 'WTDR2D_x', 'DR1DAY_y', 'DR1DBIH_y', 'DR1DRSTZ_y', 'DR1EXMER_y', 'DR1LANG_y', 'DRABF_x_y', 'DRALANG_y', 'DRDDAY_y', 'DRDDRSTS_y', 'DRDDRSTZ_y', 'DRDINTMD_y', 'WTDR4YR_y', 'WTDRD1_y', 'DR2DAY_y', 'DR2DBIH_y', 'DR2DRSTZ_y', 'DR2EXMER_y', 'DR2LANG_y', 'DRABF_y_y', 'WTDR2D_y']\n"
     ]
    }
   ],
   "source": [
    "columns_ = [c for c in pd_final.columns if '_x' in c or '_y'in c]\n",
    "print(columns_)"
   ]
  },
  {
   "cell_type": "code",
   "execution_count": 21,
   "metadata": {},
   "outputs": [
    {
     "data": {
      "text/plain": [
       "{'DR1DAY',\n",
       " 'DR1DBIH',\n",
       " 'DR1DRSTZ',\n",
       " 'DR1EXMER',\n",
       " 'DR1LANG',\n",
       " 'DR2DAY',\n",
       " 'DR2DBIH',\n",
       " 'DR2DRSTZ',\n",
       " 'DR2EXMER',\n",
       " 'DR2LANG',\n",
       " 'DRABF',\n",
       " 'DRALANG',\n",
       " 'DRDDAY',\n",
       " 'DRDDRSTS',\n",
       " 'DRDDRSTZ',\n",
       " 'DRDINTMD',\n",
       " 'WTDR2D',\n",
       " 'WTDR4YR',\n",
       " 'WTDRD1'}"
      ]
     },
     "execution_count": 21,
     "metadata": {},
     "output_type": "execute_result"
    }
   ],
   "source": [
    "columns__= [c[0:c.find('_')] for c in columns_]\n",
    "columns__ = set(columns__)\n",
    "columns__"
   ]
  },
  {
   "cell_type": "code",
   "execution_count": 22,
   "metadata": {},
   "outputs": [
    {
     "data": {
      "text/plain": [
       "[19087, 10207, 4257]"
      ]
     },
     "execution_count": 22,
     "metadata": {},
     "output_type": "execute_result"
    }
   ],
   "source": [
    "[sum(np.where(pd_final.RIDAGEYR >= tr,1,0)) for tr in [60, 70, 80]]"
   ]
  },
  {
   "cell_type": "code",
   "execution_count": 23,
   "metadata": {},
   "outputs": [],
   "source": [
    "pd_final.to_csv('./pd_final.csv', header = True, sep = '|', index = False)"
   ]
  },
  {
   "cell_type": "code",
   "execution_count": 24,
   "metadata": {},
   "outputs": [],
   "source": [
    "pd_final = pd.read_csv('./pd_final.csv', sep = '|')"
   ]
  },
  {
   "cell_type": "code",
   "execution_count": 25,
   "metadata": {},
   "outputs": [
    {
     "data": {
      "text/plain": [
       "(101316, 632)"
      ]
     },
     "execution_count": 25,
     "metadata": {},
     "output_type": "execute_result"
    }
   ],
   "source": [
    "pd_final.shape"
   ]
  },
  {
   "cell_type": "code",
   "execution_count": null,
   "metadata": {},
   "outputs": [],
   "source": []
  }
 ],
 "metadata": {
  "kernelspec": {
   "display_name": "Python 3",
   "language": "python",
   "name": "python3"
  },
  "language_info": {
   "codemirror_mode": {
    "name": "ipython",
    "version": 3
   },
   "file_extension": ".py",
   "mimetype": "text/x-python",
   "name": "python",
   "nbconvert_exporter": "python",
   "pygments_lexer": "ipython3",
   "version": "3.8.8"
  }
 },
 "nbformat": 4,
 "nbformat_minor": 4
}
