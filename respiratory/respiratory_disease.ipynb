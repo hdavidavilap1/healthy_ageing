{
 "cells": [
  {
   "cell_type": "code",
   "execution_count": 36,
   "metadata": {},
   "outputs": [],
   "source": [
    "import numpy as np\n",
    "import pandas as pd\n",
    "import matplotlib.pyplot as plt\n",
    "import seaborn as sns\n",
    "import os\n",
    "import sys\n",
    "import traceback"
   ]
  },
  {
   "cell_type": "code",
   "execution_count": 37,
   "metadata": {},
   "outputs": [],
   "source": [
    "\n",
    "## Solo estan disponibles hasta 2011-2012\n",
    "\n",
    "leer = True"
   ]
  },
  {
   "cell_type": "code",
   "execution_count": 60,
   "metadata": {},
   "outputs": [
    {
     "name": "stdout",
     "output_type": "stream",
     "text": [
      "2003-2004\n",
      "-----------------------------\n",
      "https://wwwn.cdc.gov/Nchs/Nhanes/2003-2004/RDQ_C.XPT\n",
      "2005-2006\n",
      "-----------------------------\n",
      "https://wwwn.cdc.gov/Nchs/Nhanes/2005-2006/RDQ_D.XPT\n",
      "2007-2008\n",
      "-----------------------------\n",
      "https://wwwn.cdc.gov/Nchs/Nhanes/2007-2008/RDQ_E.XPT\n",
      "2009-2010\n",
      "-----------------------------\n",
      "https://wwwn.cdc.gov/Nchs/Nhanes/2009-2010/RDQ_F.XPT\n",
      "2011-2012\n",
      "-----------------------------\n",
      "https://wwwn.cdc.gov/Nchs/Nhanes/2011-2012/RDQ_G.XPT\n"
     ]
    }
   ],
   "source": [
    "\n",
    "if leer:\n",
    "    anos = ['2003-2004', '2005-2006', '2007-2008', '2009-2010', '2011-2012']\n",
    "    \n",
    "    extension = ['RDQ_C','RDQ_D','RDQ_E','RDQ_F','RDQ_G']\n",
    "    \n",
    "    archivos = []\n",
    "    \n",
    "    for f,j in zip(anos,extension):\n",
    "        try:\n",
    "            print(f)\n",
    "            print('-----------------------------')\n",
    "            path = 'https://wwwn.cdc.gov/Nchs/Nhanes/{}/{}.XPT'.format(f, j)\n",
    "            print(path)\n",
    "            archivo = pd.read_sas(path, format='xport', encoding='utf-8')\n",
    "            if f in ['2003-2004', '2005-2006']:\n",
    "                archivo = archivo[(archivo.RDQ031 == 1)|(archivo.RDQ050 == 1)|(archivo.RDQ070 == 1)|(archivo.RDQ080 == 1)|(archivo.RDQ100 == 1)|(archivo.RDQ134 == 1)|(archivo.RDQ140 == 1)]\n",
    "            else: \n",
    "                archivo = archivo[(archivo.RDQ031 == 1)|(archivo.RDQ050 == 1)|(archivo.RDQ070 == 1)|(archivo.RDQ080 == 1)|(archivo.RDQ100 == 1)|(archivo.RDQ134 == 1)|(archivo.RDQ140 == 1)|(archivo.AGQ030 == 1)]\n",
    "            \n",
    "            archivo = archivo[['SEQN']]\n",
    "            archivo[['enfermedad_respiratoria']] = 1\n",
    "            archivos.append(archivo)\n",
    "        except Exception as exc:\n",
    "            print(path)\n",
    "            print(traceback.format_exc())\n",
    "            print(exc)\n",
    "            print('--------------------')\n",
    "            pass\n",
    "    \n",
    "    pd_ = pd.concat(archivos, sort='False', ignore_index='True')\n",
    "    pd_ = pd_.drop_duplicates()\n",
    "    pd_.to_csv('./total_respiratory.csv', header = True, sep = '|', index = False)"
   ]
  },
  {
   "cell_type": "code",
   "execution_count": null,
   "metadata": {},
   "outputs": [],
   "source": []
  }
 ],
 "metadata": {
  "kernelspec": {
   "display_name": "Python 3",
   "language": "python",
   "name": "python3"
  },
  "language_info": {
   "codemirror_mode": {
    "name": "ipython",
    "version": 3
   },
   "file_extension": ".py",
   "mimetype": "text/x-python",
   "name": "python",
   "nbconvert_exporter": "python",
   "pygments_lexer": "ipython3",
   "version": "3.8.5"
  }
 },
 "nbformat": 4,
 "nbformat_minor": 4
}
